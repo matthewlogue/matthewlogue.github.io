{
 "cells": [
  {
   "cell_type": "markdown",
   "metadata": {
    "collapsed": true
   },
   "source": [
    "## Bootstrapping"
   ]
  },
  {
   "cell_type": "code",
   "execution_count": 2,
   "metadata": {},
   "outputs": [],
   "source": [
    "import numpy as np"
   ]
  },
  {
   "cell_type": "code",
   "execution_count": 7,
   "metadata": {},
   "outputs": [
    {
     "data": {
      "text/plain": [
       "'Avg out-of-boostrap: 36.8%'"
      ]
     },
     "execution_count": 7,
     "metadata": {},
     "output_type": "execute_result"
    }
   ],
   "source": [
    "n = 1000 # number of examples\n",
    "results = list()\n",
    "\n",
    "for j in range(10000):\n",
    "    #  your boostrapped sample\n",
    "    chosen = np.random.randint(0, n, size=n)    # chooses a sample of examples\n",
    "    \n",
    "    # out-of-sample\n",
    "    results.append(len(np.unique(chosen)) / n)    # counts how many examples were only chosen once in the sample\n",
    "\n",
    "avg_oob = 1 - np.mean(results)    # 1 - proportion chosen once = proportion of examples left out-of-sample\n",
    "f\"Avg out-of-boostrap: {avg_oob*100:0.3}%\""
   ]
  }
 ],
 "metadata": {
  "kernelspec": {
   "display_name": "Python 3",
   "language": "python",
   "name": "python3"
  },
  "language_info": {
   "codemirror_mode": {
    "name": "ipython",
    "version": 3
   },
   "file_extension": ".py",
   "mimetype": "text/x-python",
   "name": "python",
   "nbconvert_exporter": "python",
   "pygments_lexer": "ipython3",
   "version": "3.7.4"
  }
 },
 "nbformat": 4,
 "nbformat_minor": 1
}
